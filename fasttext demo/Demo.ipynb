{
  "nbformat": 4,
  "nbformat_minor": 0,
  "metadata": {
    "colab": {
      "name": "Demo.ipynb",
      "provenance": [],
      "toc_visible": true
    },
    "kernelspec": {
      "name": "python3",
      "display_name": "Python 3"
    },
    "accelerator": "GPU"
  },
  "cells": [
    {
      "cell_type": "code",
      "metadata": {
        "id": "hu9ob1NbdXNC",
        "colab_type": "code",
        "colab": {
          "base_uri": "https://localhost:8080/",
          "height": 266
        },
        "outputId": "314fe5d2-655c-4225-e03a-884cb55ecaca"
      },
      "source": [
        "!pip install fasttext\n",
        "!pip install jieba"
      ],
      "execution_count": 1,
      "outputs": [
        {
          "output_type": "stream",
          "text": [
            "Collecting fasttext\n",
            "\u001b[?25l  Downloading https://files.pythonhosted.org/packages/10/61/2e01f1397ec533756c1d893c22d9d5ed3fce3a6e4af1976e0d86bb13ea97/fasttext-0.9.1.tar.gz (57kB)\n",
            "\u001b[K     |████████████████████████████████| 61kB 2.5MB/s \n",
            "\u001b[?25hRequirement already satisfied: pybind11>=2.2 in /usr/local/lib/python3.6/dist-packages (from fasttext) (2.4.3)\n",
            "Requirement already satisfied: setuptools>=0.7.0 in /usr/local/lib/python3.6/dist-packages (from fasttext) (41.2.0)\n",
            "Requirement already satisfied: numpy in /usr/local/lib/python3.6/dist-packages (from fasttext) (1.16.5)\n",
            "Building wheels for collected packages: fasttext\n",
            "  Building wheel for fasttext (setup.py) ... \u001b[?25l\u001b[?25hdone\n",
            "  Created wheel for fasttext: filename=fasttext-0.9.1-cp36-cp36m-linux_x86_64.whl size=2387958 sha256=53e3a0b28302827fbcf0bd7c205b4582f40809e87c026a630154c0b5cc92e966\n",
            "  Stored in directory: /root/.cache/pip/wheels/9f/f0/04/caa82c912aee89ce76358ff954f3f0729b7577c8ff23a292e3\n",
            "Successfully built fasttext\n",
            "Installing collected packages: fasttext\n",
            "Successfully installed fasttext-0.9.1\n",
            "Requirement already satisfied: jieba in /usr/local/lib/python3.6/dist-packages (0.39)\n"
          ],
          "name": "stdout"
        }
      ]
    },
    {
      "cell_type": "code",
      "metadata": {
        "id": "JXIjE5LIer6w",
        "colab_type": "code",
        "colab": {
          "base_uri": "https://localhost:8080/",
          "height": 212
        },
        "outputId": "4e77c55a-a9d9-4df9-ed31-c16a059d7525"
      },
      "source": [
        "!wget https://dl.fbaipublicfiles.com/fasttext/vectors-wiki/wiki.zh_yue.vec"
      ],
      "execution_count": 2,
      "outputs": [
        {
          "output_type": "stream",
          "text": [
            "--2019-10-18 08:47:00--  https://dl.fbaipublicfiles.com/fasttext/vectors-wiki/wiki.zh_yue.vec\n",
            "Resolving dl.fbaipublicfiles.com (dl.fbaipublicfiles.com)... 104.20.6.166, 104.20.22.166, 2606:4700:10::6814:16a6, ...\n",
            "Connecting to dl.fbaipublicfiles.com (dl.fbaipublicfiles.com)|104.20.6.166|:443... connected.\n",
            "HTTP request sent, awaiting response... 200 OK\n",
            "Length: 130267704 (124M) [binary/octet-stream]\n",
            "Saving to: ‘wiki.zh_yue.vec’\n",
            "\n",
            "wiki.zh_yue.vec     100%[===================>] 124.23M  22.9MB/s    in 6.0s    \n",
            "\n",
            "2019-10-18 08:47:07 (20.7 MB/s) - ‘wiki.zh_yue.vec’ saved [130267704/130267704]\n",
            "\n"
          ],
          "name": "stdout"
        }
      ]
    },
    {
      "cell_type": "code",
      "metadata": {
        "id": "kNUTxAStesC6",
        "colab_type": "code",
        "colab": {}
      },
      "source": [
        "import fasttext\n",
        "import jieba\n",
        "import jieba.analyse"
      ],
      "execution_count": 0,
      "outputs": []
    },
    {
      "cell_type": "code",
      "metadata": {
        "id": "fBMBSD8-esI-",
        "colab_type": "code",
        "colab": {
          "base_uri": "https://localhost:8080/",
          "height": 88
        },
        "outputId": "d79b43c5-75e2-4115-8d71-4f0e85d21299"
      },
      "source": [
        "#import user dictionary for pre-defined wordings\n",
        "jieba.load_userdict(\"user.dict\")"
      ],
      "execution_count": 4,
      "outputs": [
        {
          "output_type": "stream",
          "text": [
            "Building prefix dict from the default dictionary ...\n",
            "Dumping model to file cache /tmp/jieba.cache\n",
            "Loading model cost 0.952 seconds.\n",
            "Prefix dict has been built succesfully.\n"
          ],
          "name": "stderr"
        }
      ]
    },
    {
      "cell_type": "code",
      "metadata": {
        "id": "dgrdoNL-esO1",
        "colab_type": "code",
        "colab": {
          "base_uri": "https://localhost:8080/",
          "height": 35
        },
        "outputId": "cdcf05ce-bd20-4025-af81-73d31e877d83"
      },
      "source": [
        "# Get stopwords list\n",
        "def get_stopwords_list(file_path):\n",
        "    file_stop = open(file_path, 'r')\n",
        "    vec_out_words = []\n",
        "    for szLine in file_stop:\n",
        "        vec_out_words.append(szLine.strip())\n",
        "    file_stop.close()\n",
        "    return vec_out_words\n",
        "\n",
        "# Segmentation without stop words\n",
        "def sentence_seg(sentence):\n",
        "    tags = \"\" if sentence is None else \"/\".join(jieba.cut(sentence))\n",
        "    #print(tags)\n",
        "    stopwords = get_stopwords_list('StopWords_V2.txt')\n",
        "    start = 0\n",
        "    end = 0\n",
        "    curr_posn = 0\n",
        "    out_str = ''\n",
        "    for char in tags:\n",
        "        if char == '/':\n",
        "            word = tags[start:curr_posn]\n",
        "            if word not in stopwords:\n",
        "                out_str += word\n",
        "                out_str += \" \"\n",
        "            start = curr_posn + 1\n",
        "        curr_posn += 1\n",
        "    return out_str\n",
        "\n",
        "\n",
        "with open('entireT_C.train', 'r', encoding = 'utf-8') as sourceFile, open('entireT_C2.train', 'a+', encoding = 'utf-8') as targetFile:\n",
        "    for line in sourceFile:\n",
        "        line_seg = sentence_seg(line)\n",
        "        targetFile.write(line_seg)\n",
        "        targetFile.write('\\n')\n",
        "    print('done！')"
      ],
      "execution_count": 6,
      "outputs": [
        {
          "output_type": "stream",
          "text": [
            "done！\n"
          ],
          "name": "stdout"
        }
      ]
    },
    {
      "cell_type": "code",
      "metadata": {
        "id": "_wFH2KwQesVv",
        "colab_type": "code",
        "colab": {}
      },
      "source": [
        "model4=fasttext.train_supervised(input=\"entireT_C2.train\",epoch=50,lr=0.5,minn=2,maxn=3,dim=300,pretrained_vectors='wiki.zh_yue.vec')"
      ],
      "execution_count": 0,
      "outputs": []
    },
    {
      "cell_type": "markdown",
      "metadata": {
        "id": "17Y08wvhe8Uh",
        "colab_type": "text"
      },
      "source": [
        "# **Testing**"
      ]
    },
    {
      "cell_type": "code",
      "metadata": {
        "id": "H27VP59besZD",
        "colab_type": "code",
        "colab": {
          "base_uri": "https://localhost:8080/",
          "height": 144
        },
        "outputId": "79a5e84f-5132-4e1c-f916-c2b2d6ffa943"
      },
      "source": [
        "#98 (original call guide)\n",
        "script4 =\"請留意如果您想提早償還全數貸款我哋會收取借款本金餘額及本金結欠的2%的款項如您未能按期償還全數每月還款我哋將會收取每次港幣400蚊嘅逾期還款手續費及按任何逾期未還嘅每月還款額收利息利息為月息2.25厘我們亦會參考對內對外信貸資料作最後審批 \"\n",
        "test4 = sentence_seg(script4)\n",
        "print(\"test-#98: \" + test4)\n",
        "print (\"test:\",model4.predict(test4))\n",
        "#98 (from transcript ivy 1s -1003)\n",
        "test10 = sentence_seg(\"請留意返如果你想提早上船還數貸款我哋會收返你正本本金魚街同埋本間見面嘅兩個percent款項如果你未能按其實還全數每月還款我哋會生返你每次港幣400蚊嘅預期還款手續同埋我任何逾期未還嘅每月還款額收利息嘅你識唔會為原色二點至五呢我哋都會參考反對內對外嘅信貸資料在最後審批我所講嘅鍾小姐是否清楚明白同意 \")\n",
        "print(\"test-#98 got it from Ivy 1s: \" + test10)\n",
        "print (\"test:\",model4.predict(test10))\n",
        "#98 (from transcript ivy 0.7s - 1003)\n",
        "script11 =\"唔好明白咁呢度已經睇到㗎喇你可以下載返銅儲存返你啱啱行咗去文件咁請留返如果你想提早上還全數太高我哋會收返你借款本金魚夾同埋本間見面嘅兩個percent款項如果你未能按其實還全數每月還款我哋會收返你每次港幣400蚊嘅預期還款手續費同埋我任何逾期未還嘅每月還款額收利息嘅你 \"\n",
        "test11 = sentence_seg(script11)\n",
        "print(\"test-#98 got it from Ivy 0.7s: \" + test11)\n",
        "print (\"test:\",model4.predict(test11))"
      ],
      "execution_count": 8,
      "outputs": [
        {
          "output_type": "stream",
          "text": [
            "test-#98: 請 留意 如果 想 提早償還 全數 貸款 會 收取 借款 本金 餘額 本金 結欠 2% 款項 如 未能 按期 償還 全數 每月 還款 將會 收取 每次 港幣 400 蚊 逾期 還款 手續費 按 任何 逾期未還 每月 還款 額收 利息 利息 為 月息 2.25 厘我們 亦 會 參考 對內對外 信貸資料 作 最 後 審批 \n",
            "test: (('__label__R98',), array([0.99606836]))\n",
            "test-#98 got it from Ivy 1s: 請 留意 返 如果 想 提早 上船 還數 貸款 會 收返 正本 本金 魚街 本間 見 面 兩個percent 款項 如果 未能 按其實 還全數 每月 還款 會 生返 每次 港幣 400 蚊 預 期 還款 手續 任何 逾期未還 每月 還款 額收 利息 識 唔會 為 原色 二點 至 五 會 參考 反 對內對外 信貸資料 在 最 後 審批 所 講 鍾 是否 清楚 明白 同意 \n",
            "test: (('__label__R98',), array([0.92454273]))\n",
            "test-#98 got it from Ivy 0.7s: 唔 好 明白 度 已經 睇 到 可以 下載 返銅 儲存 返 啱 啱 行 去 文件 請 留返 如果 想 提早 上 還全 數太高 會 收返 借款 本金 魚夾 本間 見 面 兩個percent 款項 如果 未能 按其實 還全數 每月 還款 會 收返 每次 港幣 400 蚊 預 期 還款 手續費 任何 逾期未還 每月 還款 額收 利息 \n",
            "test: (('__label__R98',), array([0.81023252]))\n"
          ],
          "name": "stdout"
        }
      ]
    },
    {
      "cell_type": "code",
      "metadata": {
        "id": "4f4bTkEqescN",
        "colab_type": "code",
        "colab": {
          "base_uri": "https://localhost:8080/",
          "height": 195
        },
        "outputId": "89e0eef9-287d-4b9b-92ad-655fdbb1e4b6"
      },
      "source": [
        "test_irr = sentence_seg(\"雅虎香港新聞提供各類最新焦點及熱門新聞閱讀深入的相關報道新聞影片和圖片 \")\n",
        "print (\"test_case 1: \" + test_irr)\n",
        "print (model4.predict(test_irr))\n",
        "test_irr3 = sentence_seg(\"首置800萬樓按九成可不符壓測經濟師增買家意欲二手樓年底料升半成 \")\n",
        "print (\"test_case 3: \" + test_irr3)\n",
        "print (model4.predict(test_irr3))\n",
        "test_irr4 = sentence_seg(\"由2019年10月8日至11月24日憑滙豐信用卡累積本地合資格簽賬滿港幣6000元可享以下優惠 \")\n",
        "print (\"test_case : \" + test_irr4)\n",
        "print (model4.predict(test_irr4))\n",
        "test_irr5 = sentence_seg(\"呢個 \")\n",
        "print (\"test_case : \" + test_irr5)\n",
        "print (model4.predict(test_irr5))\n",
        "test_irr6 = sentence_seg(\"我哋 您嘅 \")\n",
        "print (\"test_case : \" + test_irr6)\n",
        "print (model4.predict(test_irr6))"
      ],
      "execution_count": 9,
      "outputs": [
        {
          "output_type": "stream",
          "text": [
            "test_case 1: 雅虎 香港 新聞 提供 各類 最新 焦點 熱門 新聞 閱讀 深入 相關 報道 新聞 影片 圖片 \n",
            "(('__label__R129',), array([0.1098084]))\n",
            "test_case 3: 首置 800 萬樓 按 九成 可 不符 壓測 經濟師 增買家 意欲 二手 樓 年底 料升 半成 \n",
            "(('__label__R138',), array([0.06099574]))\n",
            "test_case : 由 2019 年 10 月 8 日至 11 月 24 日 憑 滙豐 信用卡 累積 本地 合資格 簽賬 滿港幣 6000 元 可享 以下 優惠 \n",
            "(('__label__R124',), array([0.13588201]))\n",
            "test_case : \n",
            "(('__label__R188',), array([0.32313672]))\n",
            "test_case :   \n",
            "(('__label__R188',), array([0.32313672]))\n"
          ],
          "name": "stdout"
        }
      ]
    },
    {
      "cell_type": "code",
      "metadata": {
        "id": "kMBlsWfZesjB",
        "colab_type": "code",
        "colab": {}
      },
      "source": [
        ""
      ],
      "execution_count": 0,
      "outputs": []
    }
  ]
}